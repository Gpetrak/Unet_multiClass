{
 "cells": [
  {
   "cell_type": "code",
   "execution_count": 1,
   "metadata": {
    "colab": {
     "base_uri": "https://localhost:8080/"
    },
    "executionInfo": {
     "elapsed": 279,
     "status": "ok",
     "timestamp": 1624014971715,
     "user": {
      "displayName": "Giorgos petrakis",
      "photoUrl": "",
      "userId": "15232071472099933037"
     },
     "user_tz": -180
    },
    "id": "KNAf51Djpn31",
    "outputId": "5c1841b2-5a44-4876-d87e-88ac5f0a925f"
   },
   "outputs": [],
   "source": [
    "import sys\n",
    "sys.path.insert(0, \"lib\")\n",
    "sys.path.remove('/opt/ros/kinetic/lib/python2.7/dist-packages')"
   ]
  },
  {
   "cell_type": "code",
   "execution_count": 2,
   "metadata": {
    "colab": {
     "base_uri": "https://localhost:8080/"
    },
    "executionInfo": {
     "elapsed": 3206,
     "status": "ok",
     "timestamp": 1624014976296,
     "user": {
      "displayName": "Giorgos petrakis",
      "photoUrl": "",
      "userId": "15232071472099933037"
     },
     "user_tz": -180
    },
    "id": "WfrK5T51pn3_",
    "outputId": "bbeda3a6-d842-4e1b-bd0c-7f923f38fa52"
   },
   "outputs": [
    {
     "name": "stdout",
     "output_type": "stream",
     "text": [
      "[name: \"/device:CPU:0\"\n",
      "device_type: \"CPU\"\n",
      "memory_limit: 268435456\n",
      "locality {\n",
      "}\n",
      "incarnation: 778292355940890002\n",
      ", name: \"/device:XLA_CPU:0\"\n",
      "device_type: \"XLA_CPU\"\n",
      "memory_limit: 17179869184\n",
      "locality {\n",
      "}\n",
      "incarnation: 1493822411061378627\n",
      "physical_device_desc: \"device: XLA_CPU device\"\n",
      "]\n"
     ]
    }
   ],
   "source": [
    "#encoding:utf-9\n",
    "from model_mobilenet import *\n",
    "from data import *\n",
    "import os\n",
    "import tensorflow as tf\n",
    "from tensorflow import keras\n",
    "from tensorflow.keras.callbacks import TensorBoard\n",
    "#import keras.backend.tensorflow_backend as K\n",
    "import matplotlib.pyplot as plt\n",
    "\n",
    "#config = tf.compat.v1.ConfigProto\n",
    "#config.gpu_options.allow_growth=True\n",
    "#sess = tf.Session(config=config)\n",
    "#K.set_session(sess)\n",
    "#os.environ[\"CUDA_VISIBLE_DEVICES\"] = \"0\"\n",
    "\n",
    "from tensorflow.python.client import device_lib\n",
    "print(device_lib.list_local_devices())"
   ]
  },
  {
   "cell_type": "code",
   "execution_count": 3,
   "metadata": {
    "colab": {
     "base_uri": "https://localhost:8080/"
    },
    "executionInfo": {
     "elapsed": 5,
     "status": "ok",
     "timestamp": 1624008806403,
     "user": {
      "displayName": "Giorgos petrakis",
      "photoUrl": "",
      "userId": "15232071472099933037"
     },
     "user_tz": -180
    },
    "id": "lJySifdRpn4B",
    "outputId": "a6988e3a-7f6f-43e3-f2c6-1619ba292139"
   },
   "outputs": [
    {
     "name": "stdout",
     "output_type": "stream",
     "text": [
      "Num GPUs Available:  0\n"
     ]
    }
   ],
   "source": [
    "# GPU testing\n",
    "print(\"Num GPUs Available: \", len(tf.config.list_physical_devices('GPU')))"
   ]
  },
  {
   "cell_type": "code",
   "execution_count": null,
   "metadata": {
    "colab": {
     "base_uri": "https://localhost:8080/"
    },
    "id": "MliyuoFXpn4B",
    "outputId": "ac093a5e-d945-4145-86d5-22a30c0f8d79"
   },
   "outputs": [
    {
     "name": "stdout",
     "output_type": "stream",
     "text": [
      "WARNING:tensorflow:`input_shape` is undefined or non-square, or `rows` is not in [96, 128, 160, 192, 224]. Weights for input shape (224, 224) will be loaded as the default.\n",
      "Found 125 images belonging to 1 classes.\n",
      "Found 125 images belonging to 1 classes.\n",
      "Epoch 1/200\n",
      "20/20 [==============================] - ETA: 0s - loss: 0.7043 - dice_coef: 0.2491 - recall_2: 0.0162 - precision_2: 0.0942Found 34 images belonging to 1 classes.\n",
      "Found 34 images belonging to 1 classes.\n",
      "\n",
      "Epoch 00001: val_loss improved from inf to 0.73260, saving model to ./model/micro_model_v1.hdf5\n",
      "20/20 [==============================] - 46s 2s/step - loss: 0.7043 - dice_coef: 0.2491 - recall_2: 0.0162 - precision_2: 0.0942 - val_loss: 0.7326 - val_dice_coef: 0.0350 - val_recall_2: 0.0333 - val_precision_2: 0.0348\n",
      "Epoch 2/200\n",
      "20/20 [==============================] - ETA: 0s - loss: 0.6889 - dice_coef: 0.3673 - recall_2: 0.3186 - precision_2: 0.8002\n",
      "Epoch 00002: val_loss did not improve from 0.73260\n",
      "20/20 [==============================] - 42s 2s/step - loss: 0.6889 - dice_coef: 0.3673 - recall_2: 0.3186 - precision_2: 0.8002 - val_loss: 0.7331 - val_dice_coef: 0.0328 - val_recall_2: 0.0279 - val_precision_2: 0.0305\n",
      "Epoch 3/200\n",
      "20/20 [==============================] - ETA: 0s - loss: 0.6809 - dice_coef: 0.4303 - recall_2: 0.4816 - precision_2: 0.9119\n",
      "Epoch 00003: val_loss improved from 0.73260 to 0.71668, saving model to ./model/micro_model_v1.hdf5\n",
      "20/20 [==============================] - 42s 2s/step - loss: 0.6809 - dice_coef: 0.4303 - recall_2: 0.4816 - precision_2: 0.9119 - val_loss: 0.7167 - val_dice_coef: 0.1596 - val_recall_2: 0.0184 - val_precision_2: 0.0575\n",
      "Epoch 4/200\n",
      "20/20 [==============================] - ETA: 0s - loss: 0.6739 - dice_coef: 0.4873 - recall_2: 0.5216 - precision_2: 0.9301\n",
      "Epoch 00004: val_loss improved from 0.71668 to 0.68503, saving model to ./model/micro_model_v1.hdf5\n",
      "20/20 [==============================] - 44s 2s/step - loss: 0.6739 - dice_coef: 0.4873 - recall_2: 0.5216 - precision_2: 0.9301 - val_loss: 0.6850 - val_dice_coef: 0.4010 - val_recall_2: 0.3884 - val_precision_2: 0.8684\n",
      "Epoch 5/200\n",
      "20/20 [==============================] - ETA: 0s - loss: 0.6651 - dice_coef: 0.5559 - recall_2: 0.5675 - precision_2: 0.9412\n",
      "Epoch 00005: val_loss improved from 0.68503 to 0.68364, saving model to ./model/micro_model_v1.hdf5\n",
      "20/20 [==============================] - 43s 2s/step - loss: 0.6651 - dice_coef: 0.5559 - recall_2: 0.5675 - precision_2: 0.9412 - val_loss: 0.6836 - val_dice_coef: 0.4158 - val_recall_2: 0.4283 - val_precision_2: 0.8124\n",
      "Epoch 6/200\n"
     ]
    }
   ],
   "source": [
    "if __name__ == '__main__':\n",
    "\n",
    "    #path to images which are prepared to train a model\n",
    "    train_path = \"../data/balanced_classes/train\"\n",
    "    image_folder = \"images\"\n",
    "    label_folder = \"labels\"\n",
    "    valid_path =  \"../data/balanced_classes/validation\"\n",
    "    valid_image_folder =\"val_imgs\"\n",
    "    valid_label_folder = \"val_labels\"\n",
    "    log_filepath = './log'\n",
    "    flag_multi_class = True\n",
    "    num_classes = 5\n",
    "    batch_size = 6\n",
    "    dp = data_preprocess(train_path=train_path,image_folder=image_folder,label_folder=label_folder,\n",
    "                         valid_path=valid_path,valid_image_folder=valid_image_folder,valid_label_folder=valid_label_folder,\n",
    "                         flag_multi_class=flag_multi_class,\n",
    "                         num_classes=num_classes)\n",
    "    \n",
    "    # train your own model\n",
    "    train_data = dp.trainGenerator(batch_size)\n",
    "    valid_data = dp.validLoad(batch_size)\n",
    "    test_data = dp.testGenerator()\n",
    "    model = unet_trans(num_class=num_classes)\n",
    "\n",
    "    # callbacks \n",
    "    callbacks_list = [\n",
    "                      TensorBoard(log_dir=log_filepath),\n",
    "                      keras.callbacks.EarlyStopping(\n",
    "                          monitor='loss',\n",
    "                          # mode=\"max\",\n",
    "                          patience=3,\n",
    "                      ),\n",
    "                      keras.callbacks.ModelCheckpoint('./model/micro_model_v1.hdf5', \n",
    "                                                      monitor='val_loss',verbose=1,\n",
    "                                                      save_best_only=True),\n",
    "    ]\n",
    "\n",
    "    \n",
    "    \n",
    "    \n",
    "    tb_cb = TensorBoard(log_dir=log_filepath)\n",
    "    model_checkpoint = keras.callbacks.ModelCheckpoint('./model/micro_model_v1.hdf5', monitor='val_loss',verbose=1,save_best_only=True)\n",
    "    history = model.fit_generator(train_data,\n",
    "                                 steps_per_epoch=20,\n",
    "                                 epochs=200,\n",
    "                                validation_steps=5,\n",
    "                                validation_data=valid_data,\n",
    "                                callbacks=callbacks_list)\n",
    "    \n",
    "\n",
    "# Save the model\n",
    "model.save('phyto_new_transfer.h5')"
   ]
  },
  {
   "cell_type": "code",
   "execution_count": null,
   "metadata": {
    "id": "XBq01TCQkH4V"
   },
   "outputs": [],
   "source": [
    "#from model_v2 import TverskyLoss\n",
    "\n",
    "saved_model = tf.keras.models.load_model('phyto_new_10_june.h5', custom_objects={'dice_loss': dice_loss, 'dice_coef': dice_coef, 'iou_coef': iou_coef})"
   ]
  },
  {
   "cell_type": "code",
   "execution_count": null,
   "metadata": {
    "colab": {
     "base_uri": "https://localhost:8080/",
     "height": 214
    },
    "executionInfo": {
     "elapsed": 550,
     "status": "error",
     "timestamp": 1622029225535,
     "user": {
      "displayName": "Giorgos petrakis",
      "photoUrl": "",
      "userId": "15232071472099933037"
     },
     "user_tz": -180
    },
    "id": "h9Tz2noIP9v6",
    "outputId": "7367d338-d6fe-4b76-ac28-da5389a686f1"
   },
   "outputs": [],
   "source": [
    "# scoreSeg = saved_model.evaluate_generator(validation_generator, steps=66)\n",
    "print(valid_data)\n",
    "score = saved_model.evaluate_generator(valid_data)\n"
   ]
  },
  {
   "cell_type": "code",
   "execution_count": null,
   "metadata": {
    "colab": {
     "base_uri": "https://localhost:8080/",
     "height": 535
    },
    "executionInfo": {
     "elapsed": 636,
     "status": "error",
     "timestamp": 1624014438444,
     "user": {
      "displayName": "Giorgos petrakis",
      "photoUrl": "",
      "userId": "15232071472099933037"
     },
     "user_tz": -180
    },
    "id": "F5UExvpspn4D",
    "outputId": "a25c802e-217c-45e2-db07-49b2215404b1"
   },
   "outputs": [],
   "source": [
    "# draw the loss and accuracy curve\n",
    "plt.figure(12, figsize=(6, 6), dpi=60)\n",
    "plt.subplot(211)\n",
    "plt.plot(history.history['loss'], label='train')\n",
    "plt.plot(history.history['val_loss'], label='val')\n",
    "plt.title('loss')\n",
    "plt.legend()\n",
    "\n",
    "plt.subplot(212)\n",
    "plt.plot(history.history['recall'], label='train')\n",
    "plt.plot(history.history['val_recall'], label='val')\n",
    "plt.title('acc')\n",
    "plt.legend()\n",
    "\n",
    "plt.show()"
   ]
  },
  {
   "cell_type": "code",
   "execution_count": null,
   "metadata": {
    "colab": {
     "base_uri": "https://localhost:8080/",
     "height": 877
    },
    "executionInfo": {
     "elapsed": 2962,
     "status": "ok",
     "timestamp": 1624014792719,
     "user": {
      "displayName": "Giorgos petrakis",
      "photoUrl": "",
      "userId": "15232071472099933037"
     },
     "user_tz": -180
    },
    "id": "jCGI5b7opn4F",
    "outputId": "05bc19ad-1909-456b-efc9-a17b59f0f84f"
   },
   "outputs": [],
   "source": [
    "# This cell is the same with the predict.py code. I retyped it here because during the experiments\n",
    "# I want to change the parameters without restarting the kernel\n",
    "\n",
    "from tensorflow.keras.preprocessing.image import ImageDataGenerator\n",
    "import numpy as np\n",
    "\n",
    "target_size = (256, 256)\n",
    "seed = np.random.randint(0,1e5)\n",
    "\n",
    "image_datagen = ImageDataGenerator(rescale=1./255)\n",
    "mask_datagen = ImageDataGenerator()\n",
    "\n",
    "test_image_generator = image_datagen.flow_from_directory('data/balanced_classes/test/test_images', seed=seed, target_size=target_size, class_mode=None, batch_size =6)\n",
    "test_mask_generator = mask_datagen.flow_from_directory('data/balanced_classes/test/test_labels', seed=seed, target_size=target_size, class_mode=None, batch_size = 6)\n",
    "\n",
    "def combine_generator(gen1, gen2, batch_list=6,training=True):\n",
    "  \n",
    "    while True:\n",
    "        image_batch, label_batch=next(gen1)[0], np.expand_dims(next(gen2)[0][:,:,0],axis=-1)\n",
    "        image_batch, label_batch=np.expand_dims(image_batch,axis=0),np.expand_dims(label_batch,axis=0)\n",
    "\n",
    "        for i in range(batch_list-1):\n",
    "            image_i,label_i = next(gen1)[0], np.expand_dims(next(gen2)[0][:,:,0],axis=-1)\n",
    "            \n",
    "            image_i, label_i=np.expand_dims(image_i,axis=0),np.expand_dims(label_i,axis=0)\n",
    "            image_batch=np.concatenate([image_batch,image_i],axis=0)\n",
    "            label_batch=np.concatenate([label_batch,label_i],axis=0)\n",
    "              \n",
    "        yield((image_batch,label_batch))\n",
    "\n",
    "test_generator = combine_generator(test_image_generator, test_mask_generator,training=True)\n",
    "\n",
    "\n",
    "def show_predictions_in_test(model_name, generator=None, num=3):\n",
    "    if generator ==None:\n",
    "        generator = test_generator\n",
    "    for i in range(num):\n",
    "        image, mask=next(generator)\n",
    "        sample_image, sample_mask= image[1], mask[1]\n",
    "        image = np.expand_dims(sample_image, axis=0)\n",
    "        pr_mask = model_name.predict(image)\n",
    "        pr_mask=np.expand_dims(pr_mask[0].argmax(axis=-1),axis=-1)\n",
    "        display([sample_image, sample_mask,pr_mask])\n",
    "        \n",
    "def display(display_list,title=['Input Image', 'True Mask', 'Predicted Mask']):\n",
    "    plt.figure(figsize=(15, 15))\n",
    "    for i in range(len(display_list)):\n",
    "        plt.subplot(1, len(display_list), i+1)\n",
    "        plt.title(title[i])\n",
    "        plt.imshow(tf.keras.preprocessing.image.array_to_img(display_list[i]),cmap='magma')\n",
    "        plt.axis('off')\n",
    "    plt.show()\n",
    "\n",
    "show_predictions_in_test(model)"
   ]
  }
 ],
 "metadata": {
  "accelerator": "GPU",
  "colab": {
   "name": "phyto_unet_train.ipynb",
   "provenance": []
  },
  "kernelspec": {
   "display_name": "Python 3",
   "language": "python",
   "name": "python3"
  },
  "language_info": {
   "codemirror_mode": {
    "name": "ipython",
    "version": 3
   },
   "file_extension": ".py",
   "mimetype": "text/x-python",
   "name": "python",
   "nbconvert_exporter": "python",
   "pygments_lexer": "ipython3",
   "version": "3.8.5"
  }
 },
 "nbformat": 4,
 "nbformat_minor": 1
}
