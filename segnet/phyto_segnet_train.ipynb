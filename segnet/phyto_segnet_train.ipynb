{
 "cells": [
  {
   "cell_type": "code",
   "execution_count": 1,
   "metadata": {
    "colab": {
     "base_uri": "https://localhost:8080/"
    },
    "executionInfo": {
     "elapsed": 683,
     "status": "ok",
     "timestamp": 1617864978990,
     "user": {
      "displayName": "George Petrakis",
      "photoUrl": "https://lh3.googleusercontent.com/a-/AOh14GjmE1GSffd8bzHJAZ_GWHOBSOQRkLaQbEdkFAl9eA=s64",
      "userId": "14032112415701826980"
     },
     "user_tz": -180
    },
    "id": "XHq8OBVq5tlP",
    "outputId": "6191fa50-1261-493e-efde-3b252d4d1ff6"
   },
   "outputs": [],
   "source": [
    "import sys\n",
    "sys.path.insert(0, \"lib\")\n",
    "sys.path.remove('/opt/ros/kinetic/lib/python2.7/dist-packages')"
   ]
  },
  {
   "cell_type": "code",
   "execution_count": null,
   "metadata": {
    "colab": {
     "base_uri": "https://localhost:8080/"
    },
    "executionInfo": {
     "elapsed": 3279,
     "status": "ok",
     "timestamp": 1617864984591,
     "user": {
      "displayName": "George Petrakis",
      "photoUrl": "https://lh3.googleusercontent.com/a-/AOh14GjmE1GSffd8bzHJAZ_GWHOBSOQRkLaQbEdkFAl9eA=s64",
      "userId": "14032112415701826980"
     },
     "user_tz": -180
    },
    "id": "qsZNxzUB4kbz",
    "outputId": "edd9aaf8-f169-477c-aa95-9532c0234ca6"
   },
   "outputs": [
    {
     "name": "stdout",
     "output_type": "stream",
     "text": [
      "[name: \"/device:CPU:0\"\n",
      "device_type: \"CPU\"\n",
      "memory_limit: 268435456\n",
      "locality {\n",
      "}\n",
      "incarnation: 16617654443781181708\n",
      ", name: \"/device:GPU:0\"\n",
      "device_type: \"GPU\"\n",
      "memory_limit: 14674281152\n",
      "locality {\n",
      "  bus_id: 1\n",
      "  links {\n",
      "  }\n",
      "}\n",
      "incarnation: 1814677541962721593\n",
      "physical_device_desc: \"device: 0, name: Tesla T4, pci bus id: 0000:00:04.0, compute capability: 7.5\"\n",
      "]\n"
     ]
    }
   ],
   "source": [
    "#encoding:utf-9\n",
    "from segnet_model import *\n",
    "from data import *\n",
    "import os\n",
    "import tensorflow as tf\n",
    "from tensorflow import keras\n",
    "from tensorflow.keras.callbacks import TensorBoard\n",
    "#import keras.backend.tensorflow_backend as K\n",
    "import matplotlib.pyplot as plt\n",
    "\n",
    "#config = tf.compat.v1.ConfigProto\n",
    "#config.gpu_options.allow_growth=True\n",
    "#sess = tf.Session(config=config)\n",
    "#K.set_session(sess)\n",
    "#os.environ[\"CUDA_VISIBLE_DEVICES\"] = \"0\"\n",
    "\n",
    "from tensorflow.python.client import device_lib\n",
    "print(device_lib.list_local_devices())"
   ]
  },
  {
   "cell_type": "code",
   "execution_count": null,
   "metadata": {
    "colab": {
     "base_uri": "https://localhost:8080/"
    },
    "executionInfo": {
     "elapsed": 707,
     "status": "ok",
     "timestamp": 1617278770131,
     "user": {
      "displayName": "George Petrakis",
      "photoUrl": "https://lh3.googleusercontent.com/a-/AOh14GjmE1GSffd8bzHJAZ_GWHOBSOQRkLaQbEdkFAl9eA=s64",
      "userId": "14032112415701826980"
     },
     "user_tz": -180
    },
    "id": "MSa2zlsz4kb1",
    "outputId": "067e85a1-545c-4dec-8104-cc51f8a86238"
   },
   "outputs": [
    {
     "name": "stdout",
     "output_type": "stream",
     "text": [
      "Num GPUs Available:  1\n"
     ]
    }
   ],
   "source": [
    "# GPU testing\n",
    "print(\"Num GPUs Available: \", len(tf.config.list_physical_devices('GPU')))"
   ]
  },
  {
   "cell_type": "code",
   "execution_count": null,
   "metadata": {
    "colab": {
     "base_uri": "https://localhost:8080/",
     "height": 558
    },
    "executionInfo": {
     "elapsed": 10429,
     "status": "error",
     "timestamp": 1617864997143,
     "user": {
      "displayName": "George Petrakis",
      "photoUrl": "https://lh3.googleusercontent.com/a-/AOh14GjmE1GSffd8bzHJAZ_GWHOBSOQRkLaQbEdkFAl9eA=s64",
      "userId": "14032112415701826980"
     },
     "user_tz": -180
    },
    "id": "z5Kexd5-4kb2",
    "outputId": "a2957ddf-dbf3-42d8-d303-e67105e359ef"
   },
   "outputs": [],
   "source": [
    "if __name__ == '__main__':\n",
    "\n",
    "    #path to images which are prepared to train a model\n",
    "    train_path = \"data/phyto_4_class/train\"\n",
    "    image_folder = \"images\"\n",
    "    label_folder = \"labels\"\n",
    "    valid_path =  \"data/phyto/validation\"\n",
    "    valid_image_folder =\"images\"\n",
    "    valid_label_folder = \"labels\"\n",
    "    log_filepath = './log'\n",
    "    flag_multi_class = True\n",
    "    num_classes = 5\n",
    "    batch_size = 3\n",
    "    dp = data_preprocess(train_path=train_path,image_folder=image_folder,label_folder=label_folder,\n",
    "                         valid_path=valid_path,valid_image_folder=valid_image_folder,valid_label_folder=valid_label_folder,\n",
    "                         flag_multi_class=flag_multi_class,\n",
    "                         num_classes=num_classes)\n",
    "\n",
    "    # train your own model\n",
    "    train_data = dp.trainGenerator(batch_size)\n",
    "    valid_data = dp.validLoad(batch_size)\n",
    "    test_data = dp.testGenerator()\n",
    "    model = segnet((512, 512, 3), 5)\n",
    "\n",
    "    # Compile the model\n",
    "    model.compile(loss=\"categorical_crossentropy\", optimizer=\"adadelta\", metrics=[\"accuracy\"])\n",
    "\n",
    "    tb_cb = TensorBoard(log_dir=log_filepath)\n",
    "    model_checkpoint = keras.callbacks.ModelCheckpoint('./model/micro_model_v1.hdf5', monitor='val_loss',verbose=1,save_best_only=True)\n",
    "    history = model.fit_generator(train_data,\n",
    "                                  steps_per_epoch=66,\n",
    "                                  epochs=5,\n",
    "                                  validation_steps=10,\n",
    "                                  validation_data=valid_data,\n",
    "                                  callbacks=[model_checkpoint,tb_cb])"
   ]
  },
  {
   "cell_type": "code",
   "execution_count": null,
   "metadata": {
    "colab": {
     "base_uri": "https://localhost:8080/",
     "height": 328
    },
    "executionInfo": {
     "elapsed": 1364,
     "status": "ok",
     "timestamp": 1617367565963,
     "user": {
      "displayName": "George Petrakis",
      "photoUrl": "https://lh3.googleusercontent.com/a-/AOh14GjmE1GSffd8bzHJAZ_GWHOBSOQRkLaQbEdkFAl9eA=s64",
      "userId": "14032112415701826980"
     },
     "user_tz": -180
    },
    "id": "BdMjByYf4kb4",
    "outputId": "a89608bd-37d5-4fbf-951b-f380517190f5"
   },
   "outputs": [],
   "source": [
    "# draw the loss and accuracy curve\n",
    "plt.figure(12, figsize=(6, 6), dpi=60)\n",
    "plt.subplot(211)\n",
    "plt.plot(history.history['loss'], label='train')\n",
    "plt.plot(history.history['val_loss'], label='val')\n",
    "plt.title('loss')\n",
    "plt.legend()\n",
    "\n",
    "plt.subplot(212)\n",
    "plt.plot(history.history['accuracy'], label='train')\n",
    "plt.plot(history.history['val_accuracy'], label='val')\n",
    "plt.title('acc')\n",
    "plt.legend()\n",
    "\n",
    "plt.show()"
   ]
  },
  {
   "cell_type": "code",
   "execution_count": null,
   "metadata": {
    "id": "kcwJ6sur4kb5"
   },
   "outputs": [],
   "source": [
    "# Save the model\n",
    "model.save('phyto_new.h5')"
   ]
  },
  {
   "cell_type": "code",
   "execution_count": null,
   "metadata": {
    "colab": {
     "base_uri": "https://localhost:8080/",
     "height": 347
    },
    "executionInfo": {
     "elapsed": 1677,
     "status": "error",
     "timestamp": 1615878272674,
     "user": {
      "displayName": "George Petrakis",
      "photoUrl": "https://lh3.googleusercontent.com/a-/AOh14GjVeERu73r3K__0Z10nJRhj_3ryH3aSakj3WOOG=s64",
      "userId": "14032112415701826980"
     },
     "user_tz": -120
    },
    "id": "5-NiaquD4kb6",
    "outputId": "35c785b3-583e-4c96-9aec-6ec4dced674d"
   },
   "outputs": [],
   "source": [
    "from model_v2 import TverskyLoss\n",
    "model = tf.keras.models.load_model('phyto_new.h5', custom_objects={ 'TverskyLoss': TverskyLoss })\n"
   ]
  },
  {
   "cell_type": "code",
   "execution_count": null,
   "metadata": {
    "colab": {
     "base_uri": "https://localhost:8080/",
     "height": 880
    },
    "executionInfo": {
     "elapsed": 6669,
     "status": "ok",
     "timestamp": 1617368066987,
     "user": {
      "displayName": "George Petrakis",
      "photoUrl": "https://lh3.googleusercontent.com/a-/AOh14GjmE1GSffd8bzHJAZ_GWHOBSOQRkLaQbEdkFAl9eA=s64",
      "userId": "14032112415701826980"
     },
     "user_tz": -180
    },
    "id": "NMsXKINb4kb7",
    "outputId": "f34bb88f-2e2a-47d6-8f6c-fc90ec0dd367"
   },
   "outputs": [],
   "source": [
    "from tensorflow.keras.preprocessing.image import ImageDataGenerator\n",
    "import numpy as np\n",
    "\n",
    "target_size = (512, 512)\n",
    "seed = np.random.randint(0,1e5)\n",
    "\n",
    "image_datagen = ImageDataGenerator(rescale=1./255)\n",
    "mask_datagen = ImageDataGenerator()\n",
    "\n",
    "test_image_generator = image_datagen.flow_from_directory('data/phyto_4_class/validation/images', seed=seed, target_size=target_size, class_mode=None, batch_size =6)\n",
    "test_mask_generator = mask_datagen.flow_from_directory('data/phyto_4_class/validation/labels', seed=seed, target_size=target_size, class_mode=None, batch_size = 6)\n",
    "\n",
    "def combine_generator(gen1, gen2, batch_list=6,training=True):\n",
    "  \n",
    "    while True:\n",
    "        image_batch, label_batch=next(gen1)[0], np.expand_dims(next(gen2)[0][:,:,0],axis=-1)\n",
    "        image_batch, label_batch=np.expand_dims(image_batch,axis=0),np.expand_dims(label_batch,axis=0)\n",
    "\n",
    "        for i in range(batch_list-1):\n",
    "            image_i,label_i = next(gen1)[0], np.expand_dims(next(gen2)[0][:,:,0],axis=-1)\n",
    "            \n",
    "            image_i, label_i=np.expand_dims(image_i,axis=0),np.expand_dims(label_i,axis=0)\n",
    "            image_batch=np.concatenate([image_batch,image_i],axis=0)\n",
    "            label_batch=np.concatenate([label_batch,label_i],axis=0)\n",
    "              \n",
    "        yield((image_batch,label_batch))\n",
    "\n",
    "test_generator = combine_generator(test_image_generator, test_mask_generator,training=True)\n",
    "\n",
    "\n",
    "def show_predictions_in_test(model_name, generator=None, num=3):\n",
    "    if generator ==None:\n",
    "        generator = test_generator\n",
    "    for i in range(num):\n",
    "        image, mask=next(generator)\n",
    "        sample_image, sample_mask= image[1], mask[1]\n",
    "        image = np.expand_dims(sample_image, axis=0)\n",
    "        pr_mask = model_name.predict(image)\n",
    "        pr_mask=np.expand_dims(pr_mask[0].argmax(axis=-1),axis=-1)\n",
    "        display([sample_image, sample_mask,pr_mask])\n",
    "        \n",
    "def display(display_list,title=['Input Image', 'True Mask', 'Predicted Mask']):\n",
    "    plt.figure(figsize=(15, 15))\n",
    "    for i in range(len(display_list)):\n",
    "        plt.subplot(1, len(display_list), i+1)\n",
    "        plt.title(title[i])\n",
    "        plt.imshow(tf.keras.preprocessing.image.array_to_img(display_list[i]),cmap='magma')\n",
    "        plt.axis('off')\n",
    "    plt.show()\n",
    "\n",
    "show_predictions_in_test(model)"
   ]
  }
 ],
 "metadata": {
  "accelerator": "GPU",
  "colab": {
   "collapsed_sections": [],
   "name": "phyto_segnet_train.ipynb",
   "provenance": []
  },
  "kernelspec": {
   "display_name": "Python 3",
   "language": "python",
   "name": "python3"
  },
  "language_info": {
   "codemirror_mode": {
    "name": "ipython",
    "version": 3
   },
   "file_extension": ".py",
   "mimetype": "text/x-python",
   "name": "python",
   "nbconvert_exporter": "python",
   "pygments_lexer": "ipython3",
   "version": "3.8.5"
  }
 },
 "nbformat": 4,
 "nbformat_minor": 1
}
